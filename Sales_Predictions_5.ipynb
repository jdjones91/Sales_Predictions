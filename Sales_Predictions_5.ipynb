{
  "nbformat": 4,
  "nbformat_minor": 0,
  "metadata": {
    "colab": {
      "provenance": [],
      "collapsed_sections": [],
      "mount_file_id": "1o9oTR4U6MxkzCaSV7RqXJAOMlvOxliQN",
      "authorship_tag": "ABX9TyOckw3BizAeyt5JtzrLSq4t",
      "include_colab_link": true
    },
    "kernelspec": {
      "name": "python3",
      "display_name": "Python 3"
    },
    "language_info": {
      "name": "python"
    }
  },
  "cells": [
    {
      "cell_type": "markdown",
      "metadata": {
        "id": "view-in-github",
        "colab_type": "text"
      },
      "source": [
        "<a href=\"https://colab.research.google.com/github/jdjones91/Sales_Predictions/blob/main/Sales_Predictions_5.ipynb\" target=\"_parent\"><img src=\"https://colab.research.google.com/assets/colab-badge.svg\" alt=\"Open In Colab\"/></a>"
      ]
    },
    {
      "cell_type": "markdown",
      "source": [
        "# James Jones\n",
        "###09-15-2022"
      ],
      "metadata": {
        "id": "KPysrSDXQL4A"
      }
    },
    {
      "cell_type": "markdown",
      "source": [
        "## We will begin pre-processing a dataset to develop a machine learning model that can help predict product sales for grocery retailer"
      ],
      "metadata": {
        "id": "gbBFQPKMQUk4"
      }
    },
    {
      "cell_type": "code",
      "source": [
        "# Load in necessary libraries\n",
        "\n",
        "import pandas as pd # To load and manipulate our dataframe\n",
        "import numpy as np # To view our results\n",
        "from sklearn.model_selection import train_test_split # To split our data into training and testing sets\n",
        "from sklearn.compose import make_column_transformer, make_column_selector # To create our transformers\n",
        "from sklearn.preprocessing import StandardScaler, OneHotEncoder # To scale our numeric data and OneHotEncode our nominal data\n",
        "from sklearn.pipeline import make_pipeline # To create our pipelines\n",
        "from sklearn.impute import SimpleImputer # To impute missing values\n",
        "from sklearn import set_config # To create simple diagrams showing our processing steps\n",
        "set_config(display='diagram')"
      ],
      "metadata": {
        "id": "8DWhXoRcQSV2"
      },
      "execution_count": 12,
      "outputs": []
    },
    {
      "cell_type": "code",
      "source": [
        "# Load in data\n",
        "df = pd.read_csv('/content/drive/MyDrive/Data Sets (CD)/sales_predictions.csv')\n",
        "df.head()"
      ],
      "metadata": {
        "colab": {
          "base_uri": "https://localhost:8080/",
          "height": 353
        },
        "id": "IqAjpqsjRl4I",
        "outputId": "de5252f0-77ba-4786-f39a-1d6a819ee176"
      },
      "execution_count": 13,
      "outputs": [
        {
          "output_type": "execute_result",
          "data": {
            "text/plain": [
              "  Item_Identifier  Item_Weight Item_Fat_Content  Item_Visibility  \\\n",
              "0           FDA15         9.30          Low Fat         0.016047   \n",
              "1           DRC01         5.92          Regular         0.019278   \n",
              "2           FDN15        17.50          Low Fat         0.016760   \n",
              "3           FDX07        19.20          Regular         0.000000   \n",
              "4           NCD19         8.93          Low Fat         0.000000   \n",
              "\n",
              "               Item_Type  Item_MRP Outlet_Identifier  \\\n",
              "0                  Dairy  249.8092            OUT049   \n",
              "1            Soft Drinks   48.2692            OUT018   \n",
              "2                   Meat  141.6180            OUT049   \n",
              "3  Fruits and Vegetables  182.0950            OUT010   \n",
              "4              Household   53.8614            OUT013   \n",
              "\n",
              "   Outlet_Establishment_Year Outlet_Size Outlet_Location_Type  \\\n",
              "0                       1999      Medium               Tier 1   \n",
              "1                       2009      Medium               Tier 3   \n",
              "2                       1999      Medium               Tier 1   \n",
              "3                       1998         NaN               Tier 3   \n",
              "4                       1987        High               Tier 3   \n",
              "\n",
              "         Outlet_Type  Item_Outlet_Sales  \n",
              "0  Supermarket Type1          3735.1380  \n",
              "1  Supermarket Type2           443.4228  \n",
              "2  Supermarket Type1          2097.2700  \n",
              "3      Grocery Store           732.3800  \n",
              "4  Supermarket Type1           994.7052  "
            ],
            "text/html": [
              "\n",
              "  <div id=\"df-38770736-a90a-4b23-8d42-58f1e1cf89b5\">\n",
              "    <div class=\"colab-df-container\">\n",
              "      <div>\n",
              "<style scoped>\n",
              "    .dataframe tbody tr th:only-of-type {\n",
              "        vertical-align: middle;\n",
              "    }\n",
              "\n",
              "    .dataframe tbody tr th {\n",
              "        vertical-align: top;\n",
              "    }\n",
              "\n",
              "    .dataframe thead th {\n",
              "        text-align: right;\n",
              "    }\n",
              "</style>\n",
              "<table border=\"1\" class=\"dataframe\">\n",
              "  <thead>\n",
              "    <tr style=\"text-align: right;\">\n",
              "      <th></th>\n",
              "      <th>Item_Identifier</th>\n",
              "      <th>Item_Weight</th>\n",
              "      <th>Item_Fat_Content</th>\n",
              "      <th>Item_Visibility</th>\n",
              "      <th>Item_Type</th>\n",
              "      <th>Item_MRP</th>\n",
              "      <th>Outlet_Identifier</th>\n",
              "      <th>Outlet_Establishment_Year</th>\n",
              "      <th>Outlet_Size</th>\n",
              "      <th>Outlet_Location_Type</th>\n",
              "      <th>Outlet_Type</th>\n",
              "      <th>Item_Outlet_Sales</th>\n",
              "    </tr>\n",
              "  </thead>\n",
              "  <tbody>\n",
              "    <tr>\n",
              "      <th>0</th>\n",
              "      <td>FDA15</td>\n",
              "      <td>9.30</td>\n",
              "      <td>Low Fat</td>\n",
              "      <td>0.016047</td>\n",
              "      <td>Dairy</td>\n",
              "      <td>249.8092</td>\n",
              "      <td>OUT049</td>\n",
              "      <td>1999</td>\n",
              "      <td>Medium</td>\n",
              "      <td>Tier 1</td>\n",
              "      <td>Supermarket Type1</td>\n",
              "      <td>3735.1380</td>\n",
              "    </tr>\n",
              "    <tr>\n",
              "      <th>1</th>\n",
              "      <td>DRC01</td>\n",
              "      <td>5.92</td>\n",
              "      <td>Regular</td>\n",
              "      <td>0.019278</td>\n",
              "      <td>Soft Drinks</td>\n",
              "      <td>48.2692</td>\n",
              "      <td>OUT018</td>\n",
              "      <td>2009</td>\n",
              "      <td>Medium</td>\n",
              "      <td>Tier 3</td>\n",
              "      <td>Supermarket Type2</td>\n",
              "      <td>443.4228</td>\n",
              "    </tr>\n",
              "    <tr>\n",
              "      <th>2</th>\n",
              "      <td>FDN15</td>\n",
              "      <td>17.50</td>\n",
              "      <td>Low Fat</td>\n",
              "      <td>0.016760</td>\n",
              "      <td>Meat</td>\n",
              "      <td>141.6180</td>\n",
              "      <td>OUT049</td>\n",
              "      <td>1999</td>\n",
              "      <td>Medium</td>\n",
              "      <td>Tier 1</td>\n",
              "      <td>Supermarket Type1</td>\n",
              "      <td>2097.2700</td>\n",
              "    </tr>\n",
              "    <tr>\n",
              "      <th>3</th>\n",
              "      <td>FDX07</td>\n",
              "      <td>19.20</td>\n",
              "      <td>Regular</td>\n",
              "      <td>0.000000</td>\n",
              "      <td>Fruits and Vegetables</td>\n",
              "      <td>182.0950</td>\n",
              "      <td>OUT010</td>\n",
              "      <td>1998</td>\n",
              "      <td>NaN</td>\n",
              "      <td>Tier 3</td>\n",
              "      <td>Grocery Store</td>\n",
              "      <td>732.3800</td>\n",
              "    </tr>\n",
              "    <tr>\n",
              "      <th>4</th>\n",
              "      <td>NCD19</td>\n",
              "      <td>8.93</td>\n",
              "      <td>Low Fat</td>\n",
              "      <td>0.000000</td>\n",
              "      <td>Household</td>\n",
              "      <td>53.8614</td>\n",
              "      <td>OUT013</td>\n",
              "      <td>1987</td>\n",
              "      <td>High</td>\n",
              "      <td>Tier 3</td>\n",
              "      <td>Supermarket Type1</td>\n",
              "      <td>994.7052</td>\n",
              "    </tr>\n",
              "  </tbody>\n",
              "</table>\n",
              "</div>\n",
              "      <button class=\"colab-df-convert\" onclick=\"convertToInteractive('df-38770736-a90a-4b23-8d42-58f1e1cf89b5')\"\n",
              "              title=\"Convert this dataframe to an interactive table.\"\n",
              "              style=\"display:none;\">\n",
              "        \n",
              "  <svg xmlns=\"http://www.w3.org/2000/svg\" height=\"24px\"viewBox=\"0 0 24 24\"\n",
              "       width=\"24px\">\n",
              "    <path d=\"M0 0h24v24H0V0z\" fill=\"none\"/>\n",
              "    <path d=\"M18.56 5.44l.94 2.06.94-2.06 2.06-.94-2.06-.94-.94-2.06-.94 2.06-2.06.94zm-11 1L8.5 8.5l.94-2.06 2.06-.94-2.06-.94L8.5 2.5l-.94 2.06-2.06.94zm10 10l.94 2.06.94-2.06 2.06-.94-2.06-.94-.94-2.06-.94 2.06-2.06.94z\"/><path d=\"M17.41 7.96l-1.37-1.37c-.4-.4-.92-.59-1.43-.59-.52 0-1.04.2-1.43.59L10.3 9.45l-7.72 7.72c-.78.78-.78 2.05 0 2.83L4 21.41c.39.39.9.59 1.41.59.51 0 1.02-.2 1.41-.59l7.78-7.78 2.81-2.81c.8-.78.8-2.07 0-2.86zM5.41 20L4 18.59l7.72-7.72 1.47 1.35L5.41 20z\"/>\n",
              "  </svg>\n",
              "      </button>\n",
              "      \n",
              "  <style>\n",
              "    .colab-df-container {\n",
              "      display:flex;\n",
              "      flex-wrap:wrap;\n",
              "      gap: 12px;\n",
              "    }\n",
              "\n",
              "    .colab-df-convert {\n",
              "      background-color: #E8F0FE;\n",
              "      border: none;\n",
              "      border-radius: 50%;\n",
              "      cursor: pointer;\n",
              "      display: none;\n",
              "      fill: #1967D2;\n",
              "      height: 32px;\n",
              "      padding: 0 0 0 0;\n",
              "      width: 32px;\n",
              "    }\n",
              "\n",
              "    .colab-df-convert:hover {\n",
              "      background-color: #E2EBFA;\n",
              "      box-shadow: 0px 1px 2px rgba(60, 64, 67, 0.3), 0px 1px 3px 1px rgba(60, 64, 67, 0.15);\n",
              "      fill: #174EA6;\n",
              "    }\n",
              "\n",
              "    [theme=dark] .colab-df-convert {\n",
              "      background-color: #3B4455;\n",
              "      fill: #D2E3FC;\n",
              "    }\n",
              "\n",
              "    [theme=dark] .colab-df-convert:hover {\n",
              "      background-color: #434B5C;\n",
              "      box-shadow: 0px 1px 3px 1px rgba(0, 0, 0, 0.15);\n",
              "      filter: drop-shadow(0px 1px 2px rgba(0, 0, 0, 0.3));\n",
              "      fill: #FFFFFF;\n",
              "    }\n",
              "  </style>\n",
              "\n",
              "      <script>\n",
              "        const buttonEl =\n",
              "          document.querySelector('#df-38770736-a90a-4b23-8d42-58f1e1cf89b5 button.colab-df-convert');\n",
              "        buttonEl.style.display =\n",
              "          google.colab.kernel.accessAllowed ? 'block' : 'none';\n",
              "\n",
              "        async function convertToInteractive(key) {\n",
              "          const element = document.querySelector('#df-38770736-a90a-4b23-8d42-58f1e1cf89b5');\n",
              "          const dataTable =\n",
              "            await google.colab.kernel.invokeFunction('convertToInteractive',\n",
              "                                                     [key], {});\n",
              "          if (!dataTable) return;\n",
              "\n",
              "          const docLinkHtml = 'Like what you see? Visit the ' +\n",
              "            '<a target=\"_blank\" href=https://colab.research.google.com/notebooks/data_table.ipynb>data table notebook</a>'\n",
              "            + ' to learn more about interactive tables.';\n",
              "          element.innerHTML = '';\n",
              "          dataTable['output_type'] = 'display_data';\n",
              "          await google.colab.output.renderOutput(dataTable, element);\n",
              "          const docLink = document.createElement('div');\n",
              "          docLink.innerHTML = docLinkHtml;\n",
              "          element.appendChild(docLink);\n",
              "        }\n",
              "      </script>\n",
              "    </div>\n",
              "  </div>\n",
              "  "
            ]
          },
          "metadata": {},
          "execution_count": 13
        }
      ]
    },
    {
      "cell_type": "markdown",
      "source": [
        "### We will give this dataframe a once over before moving to pre-processing, just to ensure that it is as clean as we can make it"
      ],
      "metadata": {
        "id": "NFhNkBM5TDYV"
      }
    },
    {
      "cell_type": "code",
      "source": [
        "# Make a copy to manipulate for machine learning, so we don't lose our original\n",
        "DF = df.copy()"
      ],
      "metadata": {
        "id": "QVliWMY4SQhA"
      },
      "execution_count": 14,
      "outputs": []
    },
    {
      "cell_type": "code",
      "source": [
        "# Now, let's inspect our dataset. We want to perform a little cleaning prior to pre-processing\n",
        "\n",
        "DF.info()"
      ],
      "metadata": {
        "colab": {
          "base_uri": "https://localhost:8080/"
        },
        "id": "-qtTISQtSa-J",
        "outputId": "3edabe93-7525-42b1-ddca-52e80bcd781c"
      },
      "execution_count": 15,
      "outputs": [
        {
          "output_type": "stream",
          "name": "stdout",
          "text": [
            "<class 'pandas.core.frame.DataFrame'>\n",
            "RangeIndex: 8523 entries, 0 to 8522\n",
            "Data columns (total 12 columns):\n",
            " #   Column                     Non-Null Count  Dtype  \n",
            "---  ------                     --------------  -----  \n",
            " 0   Item_Identifier            8523 non-null   object \n",
            " 1   Item_Weight                7060 non-null   float64\n",
            " 2   Item_Fat_Content           8523 non-null   object \n",
            " 3   Item_Visibility            8523 non-null   float64\n",
            " 4   Item_Type                  8523 non-null   object \n",
            " 5   Item_MRP                   8523 non-null   float64\n",
            " 6   Outlet_Identifier          8523 non-null   object \n",
            " 7   Outlet_Establishment_Year  8523 non-null   int64  \n",
            " 8   Outlet_Size                6113 non-null   object \n",
            " 9   Outlet_Location_Type       8523 non-null   object \n",
            " 10  Outlet_Type                8523 non-null   object \n",
            " 11  Item_Outlet_Sales          8523 non-null   float64\n",
            "dtypes: float64(4), int64(1), object(7)\n",
            "memory usage: 799.2+ KB\n"
          ]
        }
      ]
    },
    {
      "cell_type": "code",
      "source": [
        "# Item_Weight and Item_Size appear to be missing values. This will be addressed later\n",
        "  # Let's check for duplicates\n",
        "DF.duplicated().sum()"
      ],
      "metadata": {
        "colab": {
          "base_uri": "https://localhost:8080/"
        },
        "id": "gu010pY0SlGk",
        "outputId": "c0b76a81-f51c-4021-c566-9eb168381c99"
      },
      "execution_count": 16,
      "outputs": [
        {
          "output_type": "execute_result",
          "data": {
            "text/plain": [
              "0"
            ]
          },
          "metadata": {},
          "execution_count": 16
        }
      ]
    },
    {
      "cell_type": "code",
      "source": [
        "# No duplicates. We can move on to inconsistencies in ORDINAL data\n",
        "DF['Item_Fat_Content'].value_counts()"
      ],
      "metadata": {
        "colab": {
          "base_uri": "https://localhost:8080/"
        },
        "id": "aaOeKkaDS44q",
        "outputId": "b45f08bf-c8f9-4bc9-cda3-3bd046cbf864"
      },
      "execution_count": 17,
      "outputs": [
        {
          "output_type": "execute_result",
          "data": {
            "text/plain": [
              "Low Fat    5089\n",
              "Regular    2889\n",
              "LF          316\n",
              "reg         117\n",
              "low fat     112\n",
              "Name: Item_Fat_Content, dtype: int64"
            ]
          },
          "metadata": {},
          "execution_count": 17
        }
      ]
    },
    {
      "cell_type": "code",
      "source": [
        "# This is our only ordinal category, because it travels from low->regular\n",
        "  # Super market type and location are different, but not necessarily ordered\n",
        "DF = DF.replace({'Low Fat':0, 'LF':0, 'low fat':0,\n",
        "                      'Regular':1, 'reg':1})\n",
        "# \"0\" Is used as our lowest value to stay consistent with Python's 0 indexing"
      ],
      "metadata": {
        "id": "xnMtCafVT-Qu"
      },
      "execution_count": 18,
      "outputs": []
    },
    {
      "cell_type": "code",
      "source": [
        "# We could have done this one of two ways.\n",
        "  # 1) re-named all values to \"Low Fat\" and \"Regular\", then replaced them with the corresponding number\n",
        "  # 2) As we did above, and set all values corresponding to \"Low Fat\" to 0, and all corresponding to \"Regular\" to 1\n",
        "DF['Item_Fat_Content'].value_counts()"
      ],
      "metadata": {
        "colab": {
          "base_uri": "https://localhost:8080/"
        },
        "id": "9grzExWLVEWq",
        "outputId": "b6871705-33e3-4d62-abea-624bf9b43d0d"
      },
      "execution_count": 19,
      "outputs": [
        {
          "output_type": "execute_result",
          "data": {
            "text/plain": [
              "0    5517\n",
              "1    3006\n",
              "Name: Item_Fat_Content, dtype: int64"
            ]
          },
          "metadata": {},
          "execution_count": 19
        }
      ]
    },
    {
      "cell_type": "code",
      "source": [
        "# Now, we will remove unnecessary columns. Some of these wont affect our outcome, and therefore we will just remove them\n",
        "\n",
        "DF = DF.drop(columns = ['Outlet_Establishment_Year', 'Outlet_Size', 'Outlet_Location_Type', 'Outlet_Type', 'Item_Type'])\n",
        "DF.head()\n",
        "  # Note: We will keep the \"Item_Identifier\" and the \"Outlet_Identifier rows\"...\n",
        "  # These correspond to our specific items and specific stores, so the rest of the identifying information is accessory "
      ],
      "metadata": {
        "colab": {
          "base_uri": "https://localhost:8080/",
          "height": 204
        },
        "id": "r39y2NRni-6m",
        "outputId": "8ba4f4ee-1d1d-4997-b60d-f77e5abc3a71"
      },
      "execution_count": 20,
      "outputs": [
        {
          "output_type": "execute_result",
          "data": {
            "text/plain": [
              "  Item_Identifier  Item_Weight  Item_Fat_Content  Item_Visibility  Item_MRP  \\\n",
              "0           FDA15         9.30                 0         0.016047  249.8092   \n",
              "1           DRC01         5.92                 1         0.019278   48.2692   \n",
              "2           FDN15        17.50                 0         0.016760  141.6180   \n",
              "3           FDX07        19.20                 1         0.000000  182.0950   \n",
              "4           NCD19         8.93                 0         0.000000   53.8614   \n",
              "\n",
              "  Outlet_Identifier  Item_Outlet_Sales  \n",
              "0            OUT049          3735.1380  \n",
              "1            OUT018           443.4228  \n",
              "2            OUT049          2097.2700  \n",
              "3            OUT010           732.3800  \n",
              "4            OUT013           994.7052  "
            ],
            "text/html": [
              "\n",
              "  <div id=\"df-f82355be-1e4b-4835-9050-50c6c67ad544\">\n",
              "    <div class=\"colab-df-container\">\n",
              "      <div>\n",
              "<style scoped>\n",
              "    .dataframe tbody tr th:only-of-type {\n",
              "        vertical-align: middle;\n",
              "    }\n",
              "\n",
              "    .dataframe tbody tr th {\n",
              "        vertical-align: top;\n",
              "    }\n",
              "\n",
              "    .dataframe thead th {\n",
              "        text-align: right;\n",
              "    }\n",
              "</style>\n",
              "<table border=\"1\" class=\"dataframe\">\n",
              "  <thead>\n",
              "    <tr style=\"text-align: right;\">\n",
              "      <th></th>\n",
              "      <th>Item_Identifier</th>\n",
              "      <th>Item_Weight</th>\n",
              "      <th>Item_Fat_Content</th>\n",
              "      <th>Item_Visibility</th>\n",
              "      <th>Item_MRP</th>\n",
              "      <th>Outlet_Identifier</th>\n",
              "      <th>Item_Outlet_Sales</th>\n",
              "    </tr>\n",
              "  </thead>\n",
              "  <tbody>\n",
              "    <tr>\n",
              "      <th>0</th>\n",
              "      <td>FDA15</td>\n",
              "      <td>9.30</td>\n",
              "      <td>0</td>\n",
              "      <td>0.016047</td>\n",
              "      <td>249.8092</td>\n",
              "      <td>OUT049</td>\n",
              "      <td>3735.1380</td>\n",
              "    </tr>\n",
              "    <tr>\n",
              "      <th>1</th>\n",
              "      <td>DRC01</td>\n",
              "      <td>5.92</td>\n",
              "      <td>1</td>\n",
              "      <td>0.019278</td>\n",
              "      <td>48.2692</td>\n",
              "      <td>OUT018</td>\n",
              "      <td>443.4228</td>\n",
              "    </tr>\n",
              "    <tr>\n",
              "      <th>2</th>\n",
              "      <td>FDN15</td>\n",
              "      <td>17.50</td>\n",
              "      <td>0</td>\n",
              "      <td>0.016760</td>\n",
              "      <td>141.6180</td>\n",
              "      <td>OUT049</td>\n",
              "      <td>2097.2700</td>\n",
              "    </tr>\n",
              "    <tr>\n",
              "      <th>3</th>\n",
              "      <td>FDX07</td>\n",
              "      <td>19.20</td>\n",
              "      <td>1</td>\n",
              "      <td>0.000000</td>\n",
              "      <td>182.0950</td>\n",
              "      <td>OUT010</td>\n",
              "      <td>732.3800</td>\n",
              "    </tr>\n",
              "    <tr>\n",
              "      <th>4</th>\n",
              "      <td>NCD19</td>\n",
              "      <td>8.93</td>\n",
              "      <td>0</td>\n",
              "      <td>0.000000</td>\n",
              "      <td>53.8614</td>\n",
              "      <td>OUT013</td>\n",
              "      <td>994.7052</td>\n",
              "    </tr>\n",
              "  </tbody>\n",
              "</table>\n",
              "</div>\n",
              "      <button class=\"colab-df-convert\" onclick=\"convertToInteractive('df-f82355be-1e4b-4835-9050-50c6c67ad544')\"\n",
              "              title=\"Convert this dataframe to an interactive table.\"\n",
              "              style=\"display:none;\">\n",
              "        \n",
              "  <svg xmlns=\"http://www.w3.org/2000/svg\" height=\"24px\"viewBox=\"0 0 24 24\"\n",
              "       width=\"24px\">\n",
              "    <path d=\"M0 0h24v24H0V0z\" fill=\"none\"/>\n",
              "    <path d=\"M18.56 5.44l.94 2.06.94-2.06 2.06-.94-2.06-.94-.94-2.06-.94 2.06-2.06.94zm-11 1L8.5 8.5l.94-2.06 2.06-.94-2.06-.94L8.5 2.5l-.94 2.06-2.06.94zm10 10l.94 2.06.94-2.06 2.06-.94-2.06-.94-.94-2.06-.94 2.06-2.06.94z\"/><path d=\"M17.41 7.96l-1.37-1.37c-.4-.4-.92-.59-1.43-.59-.52 0-1.04.2-1.43.59L10.3 9.45l-7.72 7.72c-.78.78-.78 2.05 0 2.83L4 21.41c.39.39.9.59 1.41.59.51 0 1.02-.2 1.41-.59l7.78-7.78 2.81-2.81c.8-.78.8-2.07 0-2.86zM5.41 20L4 18.59l7.72-7.72 1.47 1.35L5.41 20z\"/>\n",
              "  </svg>\n",
              "      </button>\n",
              "      \n",
              "  <style>\n",
              "    .colab-df-container {\n",
              "      display:flex;\n",
              "      flex-wrap:wrap;\n",
              "      gap: 12px;\n",
              "    }\n",
              "\n",
              "    .colab-df-convert {\n",
              "      background-color: #E8F0FE;\n",
              "      border: none;\n",
              "      border-radius: 50%;\n",
              "      cursor: pointer;\n",
              "      display: none;\n",
              "      fill: #1967D2;\n",
              "      height: 32px;\n",
              "      padding: 0 0 0 0;\n",
              "      width: 32px;\n",
              "    }\n",
              "\n",
              "    .colab-df-convert:hover {\n",
              "      background-color: #E2EBFA;\n",
              "      box-shadow: 0px 1px 2px rgba(60, 64, 67, 0.3), 0px 1px 3px 1px rgba(60, 64, 67, 0.15);\n",
              "      fill: #174EA6;\n",
              "    }\n",
              "\n",
              "    [theme=dark] .colab-df-convert {\n",
              "      background-color: #3B4455;\n",
              "      fill: #D2E3FC;\n",
              "    }\n",
              "\n",
              "    [theme=dark] .colab-df-convert:hover {\n",
              "      background-color: #434B5C;\n",
              "      box-shadow: 0px 1px 3px 1px rgba(0, 0, 0, 0.15);\n",
              "      filter: drop-shadow(0px 1px 2px rgba(0, 0, 0, 0.3));\n",
              "      fill: #FFFFFF;\n",
              "    }\n",
              "  </style>\n",
              "\n",
              "      <script>\n",
              "        const buttonEl =\n",
              "          document.querySelector('#df-f82355be-1e4b-4835-9050-50c6c67ad544 button.colab-df-convert');\n",
              "        buttonEl.style.display =\n",
              "          google.colab.kernel.accessAllowed ? 'block' : 'none';\n",
              "\n",
              "        async function convertToInteractive(key) {\n",
              "          const element = document.querySelector('#df-f82355be-1e4b-4835-9050-50c6c67ad544');\n",
              "          const dataTable =\n",
              "            await google.colab.kernel.invokeFunction('convertToInteractive',\n",
              "                                                     [key], {});\n",
              "          if (!dataTable) return;\n",
              "\n",
              "          const docLinkHtml = 'Like what you see? Visit the ' +\n",
              "            '<a target=\"_blank\" href=https://colab.research.google.com/notebooks/data_table.ipynb>data table notebook</a>'\n",
              "            + ' to learn more about interactive tables.';\n",
              "          element.innerHTML = '';\n",
              "          dataTable['output_type'] = 'display_data';\n",
              "          await google.colab.output.renderOutput(dataTable, element);\n",
              "          const docLink = document.createElement('div');\n",
              "          docLink.innerHTML = docLinkHtml;\n",
              "          element.appendChild(docLink);\n",
              "        }\n",
              "      </script>\n",
              "    </div>\n",
              "  </div>\n",
              "  "
            ]
          },
          "metadata": {},
          "execution_count": 20
        }
      ]
    },
    {
      "cell_type": "markdown",
      "source": [
        "# Now, we want to identify our Features (denoted by 'X') and our Target(denoted by 'y')\n",
        "  - Then, we will train test split our dataset"
      ],
      "metadata": {
        "id": "owYHLHUBWTXB"
      }
    },
    {
      "cell_type": "code",
      "source": [
        "y = DF['Item_Outlet_Sales'] # What we're trying to predict\n",
        "X = DF.drop(columns = 'Item_Outlet_Sales') # All data EXCEPT what we're trying to predict"
      ],
      "metadata": {
        "id": "Mu2HgAtPVKBQ"
      },
      "execution_count": 21,
      "outputs": []
    },
    {
      "cell_type": "code",
      "source": [
        "# Train Test Split allows us to sepparate our data, at random, to a training set and a testing set\n",
        "X_train, X_test, y_train, y_test = train_test_split(X, y, random_state = 42)"
      ],
      "metadata": {
        "id": "7gY5WAqsXQ0O"
      },
      "execution_count": 22,
      "outputs": []
    },
    {
      "cell_type": "code",
      "source": [
        "X_train.info() # This is an unnecessary step, that is only to demonstrate a successful split"
      ],
      "metadata": {
        "colab": {
          "base_uri": "https://localhost:8080/"
        },
        "id": "6pzOgaFeXxaP",
        "outputId": "7bcb26b9-2792-41c3-990a-f498c0b06aa0"
      },
      "execution_count": 24,
      "outputs": [
        {
          "output_type": "stream",
          "name": "stdout",
          "text": [
            "<class 'pandas.core.frame.DataFrame'>\n",
            "Int64Index: 6392 entries, 4776 to 7270\n",
            "Data columns (total 6 columns):\n",
            " #   Column             Non-Null Count  Dtype  \n",
            "---  ------             --------------  -----  \n",
            " 0   Item_Identifier    6392 non-null   object \n",
            " 1   Item_Weight        5285 non-null   float64\n",
            " 2   Item_Fat_Content   6392 non-null   int64  \n",
            " 3   Item_Visibility    6392 non-null   float64\n",
            " 4   Item_MRP           6392 non-null   float64\n",
            " 5   Outlet_Identifier  6392 non-null   object \n",
            "dtypes: float64(3), int64(1), object(2)\n",
            "memory usage: 349.6+ KB\n"
          ]
        }
      ]
    },
    {
      "cell_type": "markdown",
      "source": [
        "# Create a Pre-processing object to prepare our data for machine learning\n",
        "  - Since we dropped those extra rows, we now only have one remaining column that is misssing data, \"Item_Weight\"\n",
        "    - The \"Item_Weight\" column is a float. For this reason we can use \"mean\" when building our simple imputer "
      ],
      "metadata": {
        "id": "3mEERwswma-s"
      }
    },
    {
      "cell_type": "code",
      "source": [
        "# Instantiate imputer\n",
        "mean_imputer = SimpleImputer(strategy = 'mean')\n",
        "\n",
        "# Instantiate scaler\n",
        "scaler = StandardScaler()"
      ],
      "metadata": {
        "id": "VngBZhLiYoUK"
      },
      "execution_count": 49,
      "outputs": []
    },
    {
      "cell_type": "code",
      "source": [
        "#Instantiate column selectors\n",
        "cat_selector = make_column_selector(dtype_include='object')\n",
        "num_selector = make_column_selector(dtype_include='number')"
      ],
      "metadata": {
        "id": "yDBB-TE8zJlx"
      },
      "execution_count": 50,
      "outputs": []
    },
    {
      "cell_type": "code",
      "source": [
        "# Instantiate One Hot Encoder\n",
        "ohe = OneHotEncoder(handle_unknown = 'ignore', sparse = False)\n",
        "  # handle_unknown = 'ignore' allows values that were'nt encountered (if any) durring the fit process to pass through indtead of throwing an error\n",
        "  # Sparse = False does not compress our data, and makes it more ledgible"
      ],
      "metadata": {
        "id": "neTHfHRxYBoI"
      },
      "execution_count": 51,
      "outputs": []
    },
    {
      "cell_type": "code",
      "source": [
        "# Instantiate numeric pipeline\n",
        "num_pipeline = make_pipeline(mean_imputer, scaler)\n",
        "num_pipeline"
      ],
      "metadata": {
        "colab": {
          "base_uri": "https://localhost:8080/",
          "height": 124
        },
        "id": "uUvlhJzhvQUl",
        "outputId": "faf6f510-e7d5-42d1-bdcf-0eca61e0cb63"
      },
      "execution_count": 52,
      "outputs": [
        {
          "output_type": "execute_result",
          "data": {
            "text/plain": [
              "Pipeline(steps=[('simpleimputer', SimpleImputer()),\n",
              "                ('standardscaler', StandardScaler())])"
            ],
            "text/html": [
              "<style>#sk-7b5cd3dd-f77c-46a5-95b1-35ce84e1d938 {color: black;background-color: white;}#sk-7b5cd3dd-f77c-46a5-95b1-35ce84e1d938 pre{padding: 0;}#sk-7b5cd3dd-f77c-46a5-95b1-35ce84e1d938 div.sk-toggleable {background-color: white;}#sk-7b5cd3dd-f77c-46a5-95b1-35ce84e1d938 label.sk-toggleable__label {cursor: pointer;display: block;width: 100%;margin-bottom: 0;padding: 0.3em;box-sizing: border-box;text-align: center;}#sk-7b5cd3dd-f77c-46a5-95b1-35ce84e1d938 label.sk-toggleable__label-arrow:before {content: \"▸\";float: left;margin-right: 0.25em;color: #696969;}#sk-7b5cd3dd-f77c-46a5-95b1-35ce84e1d938 label.sk-toggleable__label-arrow:hover:before {color: black;}#sk-7b5cd3dd-f77c-46a5-95b1-35ce84e1d938 div.sk-estimator:hover label.sk-toggleable__label-arrow:before {color: black;}#sk-7b5cd3dd-f77c-46a5-95b1-35ce84e1d938 div.sk-toggleable__content {max-height: 0;max-width: 0;overflow: hidden;text-align: left;background-color: #f0f8ff;}#sk-7b5cd3dd-f77c-46a5-95b1-35ce84e1d938 div.sk-toggleable__content pre {margin: 0.2em;color: black;border-radius: 0.25em;background-color: #f0f8ff;}#sk-7b5cd3dd-f77c-46a5-95b1-35ce84e1d938 input.sk-toggleable__control:checked~div.sk-toggleable__content {max-height: 200px;max-width: 100%;overflow: auto;}#sk-7b5cd3dd-f77c-46a5-95b1-35ce84e1d938 input.sk-toggleable__control:checked~label.sk-toggleable__label-arrow:before {content: \"▾\";}#sk-7b5cd3dd-f77c-46a5-95b1-35ce84e1d938 div.sk-estimator input.sk-toggleable__control:checked~label.sk-toggleable__label {background-color: #d4ebff;}#sk-7b5cd3dd-f77c-46a5-95b1-35ce84e1d938 div.sk-label input.sk-toggleable__control:checked~label.sk-toggleable__label {background-color: #d4ebff;}#sk-7b5cd3dd-f77c-46a5-95b1-35ce84e1d938 input.sk-hidden--visually {border: 0;clip: rect(1px 1px 1px 1px);clip: rect(1px, 1px, 1px, 1px);height: 1px;margin: -1px;overflow: hidden;padding: 0;position: absolute;width: 1px;}#sk-7b5cd3dd-f77c-46a5-95b1-35ce84e1d938 div.sk-estimator {font-family: monospace;background-color: #f0f8ff;border: 1px dotted black;border-radius: 0.25em;box-sizing: border-box;margin-bottom: 0.5em;}#sk-7b5cd3dd-f77c-46a5-95b1-35ce84e1d938 div.sk-estimator:hover {background-color: #d4ebff;}#sk-7b5cd3dd-f77c-46a5-95b1-35ce84e1d938 div.sk-parallel-item::after {content: \"\";width: 100%;border-bottom: 1px solid gray;flex-grow: 1;}#sk-7b5cd3dd-f77c-46a5-95b1-35ce84e1d938 div.sk-label:hover label.sk-toggleable__label {background-color: #d4ebff;}#sk-7b5cd3dd-f77c-46a5-95b1-35ce84e1d938 div.sk-serial::before {content: \"\";position: absolute;border-left: 1px solid gray;box-sizing: border-box;top: 2em;bottom: 0;left: 50%;}#sk-7b5cd3dd-f77c-46a5-95b1-35ce84e1d938 div.sk-serial {display: flex;flex-direction: column;align-items: center;background-color: white;padding-right: 0.2em;padding-left: 0.2em;}#sk-7b5cd3dd-f77c-46a5-95b1-35ce84e1d938 div.sk-item {z-index: 1;}#sk-7b5cd3dd-f77c-46a5-95b1-35ce84e1d938 div.sk-parallel {display: flex;align-items: stretch;justify-content: center;background-color: white;}#sk-7b5cd3dd-f77c-46a5-95b1-35ce84e1d938 div.sk-parallel::before {content: \"\";position: absolute;border-left: 1px solid gray;box-sizing: border-box;top: 2em;bottom: 0;left: 50%;}#sk-7b5cd3dd-f77c-46a5-95b1-35ce84e1d938 div.sk-parallel-item {display: flex;flex-direction: column;position: relative;background-color: white;}#sk-7b5cd3dd-f77c-46a5-95b1-35ce84e1d938 div.sk-parallel-item:first-child::after {align-self: flex-end;width: 50%;}#sk-7b5cd3dd-f77c-46a5-95b1-35ce84e1d938 div.sk-parallel-item:last-child::after {align-self: flex-start;width: 50%;}#sk-7b5cd3dd-f77c-46a5-95b1-35ce84e1d938 div.sk-parallel-item:only-child::after {width: 0;}#sk-7b5cd3dd-f77c-46a5-95b1-35ce84e1d938 div.sk-dashed-wrapped {border: 1px dashed gray;margin: 0 0.4em 0.5em 0.4em;box-sizing: border-box;padding-bottom: 0.4em;background-color: white;position: relative;}#sk-7b5cd3dd-f77c-46a5-95b1-35ce84e1d938 div.sk-label label {font-family: monospace;font-weight: bold;background-color: white;display: inline-block;line-height: 1.2em;}#sk-7b5cd3dd-f77c-46a5-95b1-35ce84e1d938 div.sk-label-container {position: relative;z-index: 2;text-align: center;}#sk-7b5cd3dd-f77c-46a5-95b1-35ce84e1d938 div.sk-container {/* jupyter's `normalize.less` sets `[hidden] { display: none; }` but bootstrap.min.css set `[hidden] { display: none !important; }` so we also need the `!important` here to be able to override the default hidden behavior on the sphinx rendered scikit-learn.org. See: https://github.com/scikit-learn/scikit-learn/issues/21755 */display: inline-block !important;position: relative;}#sk-7b5cd3dd-f77c-46a5-95b1-35ce84e1d938 div.sk-text-repr-fallback {display: none;}</style><div id=\"sk-7b5cd3dd-f77c-46a5-95b1-35ce84e1d938\" class=\"sk-top-container\"><div class=\"sk-text-repr-fallback\"><pre>Pipeline(steps=[(&#x27;simpleimputer&#x27;, SimpleImputer()),\n",
              "                (&#x27;standardscaler&#x27;, StandardScaler())])</pre><b>Please rerun this cell to show the HTML repr or trust the notebook.</b></div><div class=\"sk-container\" hidden><div class=\"sk-item sk-dashed-wrapped\"><div class=\"sk-label-container\"><div class=\"sk-label sk-toggleable\"><input class=\"sk-toggleable__control sk-hidden--visually\" id=\"8315dc9b-5e63-403e-a0ad-43c0e7bbc65e\" type=\"checkbox\" ><label for=\"8315dc9b-5e63-403e-a0ad-43c0e7bbc65e\" class=\"sk-toggleable__label sk-toggleable__label-arrow\">Pipeline</label><div class=\"sk-toggleable__content\"><pre>Pipeline(steps=[(&#x27;simpleimputer&#x27;, SimpleImputer()),\n",
              "                (&#x27;standardscaler&#x27;, StandardScaler())])</pre></div></div></div><div class=\"sk-serial\"><div class=\"sk-item\"><div class=\"sk-estimator sk-toggleable\"><input class=\"sk-toggleable__control sk-hidden--visually\" id=\"bf9b61c5-d650-4ef0-b3a1-8fb2e4b42810\" type=\"checkbox\" ><label for=\"bf9b61c5-d650-4ef0-b3a1-8fb2e4b42810\" class=\"sk-toggleable__label sk-toggleable__label-arrow\">SimpleImputer</label><div class=\"sk-toggleable__content\"><pre>SimpleImputer()</pre></div></div></div><div class=\"sk-item\"><div class=\"sk-estimator sk-toggleable\"><input class=\"sk-toggleable__control sk-hidden--visually\" id=\"338b3386-9104-4e72-b936-d2d5c610c872\" type=\"checkbox\" ><label for=\"338b3386-9104-4e72-b936-d2d5c610c872\" class=\"sk-toggleable__label sk-toggleable__label-arrow\">StandardScaler</label><div class=\"sk-toggleable__content\"><pre>StandardScaler()</pre></div></div></div></div></div></div></div>"
            ]
          },
          "metadata": {},
          "execution_count": 52
        }
      ]
    },
    {
      "cell_type": "code",
      "source": [
        "# Instantiate categorical pipeline\n",
        "cat_pipeline = make_pipeline(ohe)\n",
        "cat_pipeline"
      ],
      "metadata": {
        "colab": {
          "base_uri": "https://localhost:8080/",
          "height": 90
        },
        "id": "78lBopaVwxyT",
        "outputId": "ff693d75-b852-47d7-8b9e-8c006d69cd81"
      },
      "execution_count": 53,
      "outputs": [
        {
          "output_type": "execute_result",
          "data": {
            "text/plain": [
              "Pipeline(steps=[('onehotencoder',\n",
              "                 OneHotEncoder(handle_unknown='ignore', sparse=False))])"
            ],
            "text/html": [
              "<style>#sk-51255d10-da24-42db-abf6-e3bfb090c486 {color: black;background-color: white;}#sk-51255d10-da24-42db-abf6-e3bfb090c486 pre{padding: 0;}#sk-51255d10-da24-42db-abf6-e3bfb090c486 div.sk-toggleable {background-color: white;}#sk-51255d10-da24-42db-abf6-e3bfb090c486 label.sk-toggleable__label {cursor: pointer;display: block;width: 100%;margin-bottom: 0;padding: 0.3em;box-sizing: border-box;text-align: center;}#sk-51255d10-da24-42db-abf6-e3bfb090c486 label.sk-toggleable__label-arrow:before {content: \"▸\";float: left;margin-right: 0.25em;color: #696969;}#sk-51255d10-da24-42db-abf6-e3bfb090c486 label.sk-toggleable__label-arrow:hover:before {color: black;}#sk-51255d10-da24-42db-abf6-e3bfb090c486 div.sk-estimator:hover label.sk-toggleable__label-arrow:before {color: black;}#sk-51255d10-da24-42db-abf6-e3bfb090c486 div.sk-toggleable__content {max-height: 0;max-width: 0;overflow: hidden;text-align: left;background-color: #f0f8ff;}#sk-51255d10-da24-42db-abf6-e3bfb090c486 div.sk-toggleable__content pre {margin: 0.2em;color: black;border-radius: 0.25em;background-color: #f0f8ff;}#sk-51255d10-da24-42db-abf6-e3bfb090c486 input.sk-toggleable__control:checked~div.sk-toggleable__content {max-height: 200px;max-width: 100%;overflow: auto;}#sk-51255d10-da24-42db-abf6-e3bfb090c486 input.sk-toggleable__control:checked~label.sk-toggleable__label-arrow:before {content: \"▾\";}#sk-51255d10-da24-42db-abf6-e3bfb090c486 div.sk-estimator input.sk-toggleable__control:checked~label.sk-toggleable__label {background-color: #d4ebff;}#sk-51255d10-da24-42db-abf6-e3bfb090c486 div.sk-label input.sk-toggleable__control:checked~label.sk-toggleable__label {background-color: #d4ebff;}#sk-51255d10-da24-42db-abf6-e3bfb090c486 input.sk-hidden--visually {border: 0;clip: rect(1px 1px 1px 1px);clip: rect(1px, 1px, 1px, 1px);height: 1px;margin: -1px;overflow: hidden;padding: 0;position: absolute;width: 1px;}#sk-51255d10-da24-42db-abf6-e3bfb090c486 div.sk-estimator {font-family: monospace;background-color: #f0f8ff;border: 1px dotted black;border-radius: 0.25em;box-sizing: border-box;margin-bottom: 0.5em;}#sk-51255d10-da24-42db-abf6-e3bfb090c486 div.sk-estimator:hover {background-color: #d4ebff;}#sk-51255d10-da24-42db-abf6-e3bfb090c486 div.sk-parallel-item::after {content: \"\";width: 100%;border-bottom: 1px solid gray;flex-grow: 1;}#sk-51255d10-da24-42db-abf6-e3bfb090c486 div.sk-label:hover label.sk-toggleable__label {background-color: #d4ebff;}#sk-51255d10-da24-42db-abf6-e3bfb090c486 div.sk-serial::before {content: \"\";position: absolute;border-left: 1px solid gray;box-sizing: border-box;top: 2em;bottom: 0;left: 50%;}#sk-51255d10-da24-42db-abf6-e3bfb090c486 div.sk-serial {display: flex;flex-direction: column;align-items: center;background-color: white;padding-right: 0.2em;padding-left: 0.2em;}#sk-51255d10-da24-42db-abf6-e3bfb090c486 div.sk-item {z-index: 1;}#sk-51255d10-da24-42db-abf6-e3bfb090c486 div.sk-parallel {display: flex;align-items: stretch;justify-content: center;background-color: white;}#sk-51255d10-da24-42db-abf6-e3bfb090c486 div.sk-parallel::before {content: \"\";position: absolute;border-left: 1px solid gray;box-sizing: border-box;top: 2em;bottom: 0;left: 50%;}#sk-51255d10-da24-42db-abf6-e3bfb090c486 div.sk-parallel-item {display: flex;flex-direction: column;position: relative;background-color: white;}#sk-51255d10-da24-42db-abf6-e3bfb090c486 div.sk-parallel-item:first-child::after {align-self: flex-end;width: 50%;}#sk-51255d10-da24-42db-abf6-e3bfb090c486 div.sk-parallel-item:last-child::after {align-self: flex-start;width: 50%;}#sk-51255d10-da24-42db-abf6-e3bfb090c486 div.sk-parallel-item:only-child::after {width: 0;}#sk-51255d10-da24-42db-abf6-e3bfb090c486 div.sk-dashed-wrapped {border: 1px dashed gray;margin: 0 0.4em 0.5em 0.4em;box-sizing: border-box;padding-bottom: 0.4em;background-color: white;position: relative;}#sk-51255d10-da24-42db-abf6-e3bfb090c486 div.sk-label label {font-family: monospace;font-weight: bold;background-color: white;display: inline-block;line-height: 1.2em;}#sk-51255d10-da24-42db-abf6-e3bfb090c486 div.sk-label-container {position: relative;z-index: 2;text-align: center;}#sk-51255d10-da24-42db-abf6-e3bfb090c486 div.sk-container {/* jupyter's `normalize.less` sets `[hidden] { display: none; }` but bootstrap.min.css set `[hidden] { display: none !important; }` so we also need the `!important` here to be able to override the default hidden behavior on the sphinx rendered scikit-learn.org. See: https://github.com/scikit-learn/scikit-learn/issues/21755 */display: inline-block !important;position: relative;}#sk-51255d10-da24-42db-abf6-e3bfb090c486 div.sk-text-repr-fallback {display: none;}</style><div id=\"sk-51255d10-da24-42db-abf6-e3bfb090c486\" class=\"sk-top-container\"><div class=\"sk-text-repr-fallback\"><pre>Pipeline(steps=[(&#x27;onehotencoder&#x27;,\n",
              "                 OneHotEncoder(handle_unknown=&#x27;ignore&#x27;, sparse=False))])</pre><b>Please rerun this cell to show the HTML repr or trust the notebook.</b></div><div class=\"sk-container\" hidden><div class=\"sk-item sk-dashed-wrapped\"><div class=\"sk-label-container\"><div class=\"sk-label sk-toggleable\"><input class=\"sk-toggleable__control sk-hidden--visually\" id=\"27c299ea-e16f-412b-a164-625f8b496814\" type=\"checkbox\" ><label for=\"27c299ea-e16f-412b-a164-625f8b496814\" class=\"sk-toggleable__label sk-toggleable__label-arrow\">Pipeline</label><div class=\"sk-toggleable__content\"><pre>Pipeline(steps=[(&#x27;onehotencoder&#x27;,\n",
              "                 OneHotEncoder(handle_unknown=&#x27;ignore&#x27;, sparse=False))])</pre></div></div></div><div class=\"sk-serial\"><div class=\"sk-item\"><div class=\"sk-estimator sk-toggleable\"><input class=\"sk-toggleable__control sk-hidden--visually\" id=\"d078f3d4-87eb-490d-be67-9b437d84582a\" type=\"checkbox\" ><label for=\"d078f3d4-87eb-490d-be67-9b437d84582a\" class=\"sk-toggleable__label sk-toggleable__label-arrow\">OneHotEncoder</label><div class=\"sk-toggleable__content\"><pre>OneHotEncoder(handle_unknown=&#x27;ignore&#x27;, sparse=False)</pre></div></div></div></div></div></div></div>"
            ]
          },
          "metadata": {},
          "execution_count": 53
        }
      ]
    },
    {
      "cell_type": "code",
      "source": [
        "# Creat tuples for transformers\n",
        "num_tuple = (num_pipeline, num_selector)\n",
        "cat_tuple = (cat_pipeline, cat_selector)"
      ],
      "metadata": {
        "id": "qbthsMkbxRGI"
      },
      "execution_count": 54,
      "outputs": []
    },
    {
      "cell_type": "code",
      "source": [
        "# Create column transformer (we'll call it 'preprocessor')\n",
        "preprocessor = make_column_transformer(num_tuple, cat_tuple, remainder = 'passthrough') # Anything un-transformed, if any\n",
        "preprocessor"
      ],
      "metadata": {
        "colab": {
          "base_uri": "https://localhost:8080/",
          "height": 149
        },
        "id": "BtMP7TvvzkQ5",
        "outputId": "fb1737fd-3c93-40a1-a0b4-b7de8f17ec0a"
      },
      "execution_count": 55,
      "outputs": [
        {
          "output_type": "execute_result",
          "data": {
            "text/plain": [
              "ColumnTransformer(remainder='passthrough',\n",
              "                  transformers=[('pipeline-1',\n",
              "                                 Pipeline(steps=[('simpleimputer',\n",
              "                                                  SimpleImputer()),\n",
              "                                                 ('standardscaler',\n",
              "                                                  StandardScaler())]),\n",
              "                                 <sklearn.compose._column_transformer.make_column_selector object at 0x7f65ce388290>),\n",
              "                                ('pipeline-2',\n",
              "                                 Pipeline(steps=[('onehotencoder',\n",
              "                                                  OneHotEncoder(handle_unknown='ignore',\n",
              "                                                                sparse=False))]),\n",
              "                                 <sklearn.compose._column_transformer.make_column_selector object at 0x7f65ce388110>)])"
            ],
            "text/html": [
              "<style>#sk-5984ab76-db74-4433-a78f-84967e6c76d6 {color: black;background-color: white;}#sk-5984ab76-db74-4433-a78f-84967e6c76d6 pre{padding: 0;}#sk-5984ab76-db74-4433-a78f-84967e6c76d6 div.sk-toggleable {background-color: white;}#sk-5984ab76-db74-4433-a78f-84967e6c76d6 label.sk-toggleable__label {cursor: pointer;display: block;width: 100%;margin-bottom: 0;padding: 0.3em;box-sizing: border-box;text-align: center;}#sk-5984ab76-db74-4433-a78f-84967e6c76d6 label.sk-toggleable__label-arrow:before {content: \"▸\";float: left;margin-right: 0.25em;color: #696969;}#sk-5984ab76-db74-4433-a78f-84967e6c76d6 label.sk-toggleable__label-arrow:hover:before {color: black;}#sk-5984ab76-db74-4433-a78f-84967e6c76d6 div.sk-estimator:hover label.sk-toggleable__label-arrow:before {color: black;}#sk-5984ab76-db74-4433-a78f-84967e6c76d6 div.sk-toggleable__content {max-height: 0;max-width: 0;overflow: hidden;text-align: left;background-color: #f0f8ff;}#sk-5984ab76-db74-4433-a78f-84967e6c76d6 div.sk-toggleable__content pre {margin: 0.2em;color: black;border-radius: 0.25em;background-color: #f0f8ff;}#sk-5984ab76-db74-4433-a78f-84967e6c76d6 input.sk-toggleable__control:checked~div.sk-toggleable__content {max-height: 200px;max-width: 100%;overflow: auto;}#sk-5984ab76-db74-4433-a78f-84967e6c76d6 input.sk-toggleable__control:checked~label.sk-toggleable__label-arrow:before {content: \"▾\";}#sk-5984ab76-db74-4433-a78f-84967e6c76d6 div.sk-estimator input.sk-toggleable__control:checked~label.sk-toggleable__label {background-color: #d4ebff;}#sk-5984ab76-db74-4433-a78f-84967e6c76d6 div.sk-label input.sk-toggleable__control:checked~label.sk-toggleable__label {background-color: #d4ebff;}#sk-5984ab76-db74-4433-a78f-84967e6c76d6 input.sk-hidden--visually {border: 0;clip: rect(1px 1px 1px 1px);clip: rect(1px, 1px, 1px, 1px);height: 1px;margin: -1px;overflow: hidden;padding: 0;position: absolute;width: 1px;}#sk-5984ab76-db74-4433-a78f-84967e6c76d6 div.sk-estimator {font-family: monospace;background-color: #f0f8ff;border: 1px dotted black;border-radius: 0.25em;box-sizing: border-box;margin-bottom: 0.5em;}#sk-5984ab76-db74-4433-a78f-84967e6c76d6 div.sk-estimator:hover {background-color: #d4ebff;}#sk-5984ab76-db74-4433-a78f-84967e6c76d6 div.sk-parallel-item::after {content: \"\";width: 100%;border-bottom: 1px solid gray;flex-grow: 1;}#sk-5984ab76-db74-4433-a78f-84967e6c76d6 div.sk-label:hover label.sk-toggleable__label {background-color: #d4ebff;}#sk-5984ab76-db74-4433-a78f-84967e6c76d6 div.sk-serial::before {content: \"\";position: absolute;border-left: 1px solid gray;box-sizing: border-box;top: 2em;bottom: 0;left: 50%;}#sk-5984ab76-db74-4433-a78f-84967e6c76d6 div.sk-serial {display: flex;flex-direction: column;align-items: center;background-color: white;padding-right: 0.2em;padding-left: 0.2em;}#sk-5984ab76-db74-4433-a78f-84967e6c76d6 div.sk-item {z-index: 1;}#sk-5984ab76-db74-4433-a78f-84967e6c76d6 div.sk-parallel {display: flex;align-items: stretch;justify-content: center;background-color: white;}#sk-5984ab76-db74-4433-a78f-84967e6c76d6 div.sk-parallel::before {content: \"\";position: absolute;border-left: 1px solid gray;box-sizing: border-box;top: 2em;bottom: 0;left: 50%;}#sk-5984ab76-db74-4433-a78f-84967e6c76d6 div.sk-parallel-item {display: flex;flex-direction: column;position: relative;background-color: white;}#sk-5984ab76-db74-4433-a78f-84967e6c76d6 div.sk-parallel-item:first-child::after {align-self: flex-end;width: 50%;}#sk-5984ab76-db74-4433-a78f-84967e6c76d6 div.sk-parallel-item:last-child::after {align-self: flex-start;width: 50%;}#sk-5984ab76-db74-4433-a78f-84967e6c76d6 div.sk-parallel-item:only-child::after {width: 0;}#sk-5984ab76-db74-4433-a78f-84967e6c76d6 div.sk-dashed-wrapped {border: 1px dashed gray;margin: 0 0.4em 0.5em 0.4em;box-sizing: border-box;padding-bottom: 0.4em;background-color: white;position: relative;}#sk-5984ab76-db74-4433-a78f-84967e6c76d6 div.sk-label label {font-family: monospace;font-weight: bold;background-color: white;display: inline-block;line-height: 1.2em;}#sk-5984ab76-db74-4433-a78f-84967e6c76d6 div.sk-label-container {position: relative;z-index: 2;text-align: center;}#sk-5984ab76-db74-4433-a78f-84967e6c76d6 div.sk-container {/* jupyter's `normalize.less` sets `[hidden] { display: none; }` but bootstrap.min.css set `[hidden] { display: none !important; }` so we also need the `!important` here to be able to override the default hidden behavior on the sphinx rendered scikit-learn.org. See: https://github.com/scikit-learn/scikit-learn/issues/21755 */display: inline-block !important;position: relative;}#sk-5984ab76-db74-4433-a78f-84967e6c76d6 div.sk-text-repr-fallback {display: none;}</style><div id=\"sk-5984ab76-db74-4433-a78f-84967e6c76d6\" class=\"sk-top-container\"><div class=\"sk-text-repr-fallback\"><pre>ColumnTransformer(remainder=&#x27;passthrough&#x27;,\n",
              "                  transformers=[(&#x27;pipeline-1&#x27;,\n",
              "                                 Pipeline(steps=[(&#x27;simpleimputer&#x27;,\n",
              "                                                  SimpleImputer()),\n",
              "                                                 (&#x27;standardscaler&#x27;,\n",
              "                                                  StandardScaler())]),\n",
              "                                 &lt;sklearn.compose._column_transformer.make_column_selector object at 0x7f65ce388290&gt;),\n",
              "                                (&#x27;pipeline-2&#x27;,\n",
              "                                 Pipeline(steps=[(&#x27;onehotencoder&#x27;,\n",
              "                                                  OneHotEncoder(handle_unknown=&#x27;ignore&#x27;,\n",
              "                                                                sparse=False))]),\n",
              "                                 &lt;sklearn.compose._column_transformer.make_column_selector object at 0x7f65ce388110&gt;)])</pre><b>Please rerun this cell to show the HTML repr or trust the notebook.</b></div><div class=\"sk-container\" hidden><div class=\"sk-item sk-dashed-wrapped\"><div class=\"sk-label-container\"><div class=\"sk-label sk-toggleable\"><input class=\"sk-toggleable__control sk-hidden--visually\" id=\"23fc5688-3594-4de8-915a-ad26feecc6b9\" type=\"checkbox\" ><label for=\"23fc5688-3594-4de8-915a-ad26feecc6b9\" class=\"sk-toggleable__label sk-toggleable__label-arrow\">ColumnTransformer</label><div class=\"sk-toggleable__content\"><pre>ColumnTransformer(remainder=&#x27;passthrough&#x27;,\n",
              "                  transformers=[(&#x27;pipeline-1&#x27;,\n",
              "                                 Pipeline(steps=[(&#x27;simpleimputer&#x27;,\n",
              "                                                  SimpleImputer()),\n",
              "                                                 (&#x27;standardscaler&#x27;,\n",
              "                                                  StandardScaler())]),\n",
              "                                 &lt;sklearn.compose._column_transformer.make_column_selector object at 0x7f65ce388290&gt;),\n",
              "                                (&#x27;pipeline-2&#x27;,\n",
              "                                 Pipeline(steps=[(&#x27;onehotencoder&#x27;,\n",
              "                                                  OneHotEncoder(handle_unknown=&#x27;ignore&#x27;,\n",
              "                                                                sparse=False))]),\n",
              "                                 &lt;sklearn.compose._column_transformer.make_column_selector object at 0x7f65ce388110&gt;)])</pre></div></div></div><div class=\"sk-parallel\"><div class=\"sk-parallel-item\"><div class=\"sk-item\"><div class=\"sk-label-container\"><div class=\"sk-label sk-toggleable\"><input class=\"sk-toggleable__control sk-hidden--visually\" id=\"2f7c4d84-538f-4a8d-9ec3-60ad672aa05b\" type=\"checkbox\" ><label for=\"2f7c4d84-538f-4a8d-9ec3-60ad672aa05b\" class=\"sk-toggleable__label sk-toggleable__label-arrow\">pipeline-1</label><div class=\"sk-toggleable__content\"><pre>&lt;sklearn.compose._column_transformer.make_column_selector object at 0x7f65ce388290&gt;</pre></div></div></div><div class=\"sk-serial\"><div class=\"sk-item\"><div class=\"sk-serial\"><div class=\"sk-item\"><div class=\"sk-estimator sk-toggleable\"><input class=\"sk-toggleable__control sk-hidden--visually\" id=\"b753d9c3-0918-46b5-a0ec-83f992f4f674\" type=\"checkbox\" ><label for=\"b753d9c3-0918-46b5-a0ec-83f992f4f674\" class=\"sk-toggleable__label sk-toggleable__label-arrow\">SimpleImputer</label><div class=\"sk-toggleable__content\"><pre>SimpleImputer()</pre></div></div></div><div class=\"sk-item\"><div class=\"sk-estimator sk-toggleable\"><input class=\"sk-toggleable__control sk-hidden--visually\" id=\"dd977f33-8a61-4bf8-995d-68cf0f1810ff\" type=\"checkbox\" ><label for=\"dd977f33-8a61-4bf8-995d-68cf0f1810ff\" class=\"sk-toggleable__label sk-toggleable__label-arrow\">StandardScaler</label><div class=\"sk-toggleable__content\"><pre>StandardScaler()</pre></div></div></div></div></div></div></div></div><div class=\"sk-parallel-item\"><div class=\"sk-item\"><div class=\"sk-label-container\"><div class=\"sk-label sk-toggleable\"><input class=\"sk-toggleable__control sk-hidden--visually\" id=\"3cf33cae-cac3-422c-82aa-eb0cb6b74b3e\" type=\"checkbox\" ><label for=\"3cf33cae-cac3-422c-82aa-eb0cb6b74b3e\" class=\"sk-toggleable__label sk-toggleable__label-arrow\">pipeline-2</label><div class=\"sk-toggleable__content\"><pre>&lt;sklearn.compose._column_transformer.make_column_selector object at 0x7f65ce388110&gt;</pre></div></div></div><div class=\"sk-serial\"><div class=\"sk-item\"><div class=\"sk-serial\"><div class=\"sk-item\"><div class=\"sk-estimator sk-toggleable\"><input class=\"sk-toggleable__control sk-hidden--visually\" id=\"c6f6ff9f-d3a7-4084-b2d8-2886b736d517\" type=\"checkbox\" ><label for=\"c6f6ff9f-d3a7-4084-b2d8-2886b736d517\" class=\"sk-toggleable__label sk-toggleable__label-arrow\">OneHotEncoder</label><div class=\"sk-toggleable__content\"><pre>OneHotEncoder(handle_unknown=&#x27;ignore&#x27;, sparse=False)</pre></div></div></div></div></div></div></div></div><div class=\"sk-parallel-item\"><div class=\"sk-item\"><div class=\"sk-label-container\"><div class=\"sk-label sk-toggleable\"><input class=\"sk-toggleable__control sk-hidden--visually\" id=\"3875f115-8ccb-434c-a7e0-e0e658c839e0\" type=\"checkbox\" ><label for=\"3875f115-8ccb-434c-a7e0-e0e658c839e0\" class=\"sk-toggleable__label sk-toggleable__label-arrow\">remainder</label><div class=\"sk-toggleable__content\"><pre></pre></div></div></div><div class=\"sk-serial\"><div class=\"sk-item\"><div class=\"sk-estimator sk-toggleable\"><input class=\"sk-toggleable__control sk-hidden--visually\" id=\"92a80024-84a7-48ed-a196-6b2a4d6f282e\" type=\"checkbox\" ><label for=\"92a80024-84a7-48ed-a196-6b2a4d6f282e\" class=\"sk-toggleable__label sk-toggleable__label-arrow\">passthrough</label><div class=\"sk-toggleable__content\"><pre>passthrough</pre></div></div></div></div></div></div></div></div></div></div>"
            ]
          },
          "metadata": {},
          "execution_count": 55
        }
      ]
    },
    {
      "cell_type": "code",
      "source": [
        "# Fit transformer on training data\n",
        "preprocessor.fit(X_train)"
      ],
      "metadata": {
        "colab": {
          "base_uri": "https://localhost:8080/",
          "height": 149
        },
        "id": "XCJxdkkL0e0A",
        "outputId": "1ebfe6d8-afc5-4b0d-a761-a29f4290885b"
      },
      "execution_count": 56,
      "outputs": [
        {
          "output_type": "execute_result",
          "data": {
            "text/plain": [
              "ColumnTransformer(remainder='passthrough',\n",
              "                  transformers=[('pipeline-1',\n",
              "                                 Pipeline(steps=[('simpleimputer',\n",
              "                                                  SimpleImputer()),\n",
              "                                                 ('standardscaler',\n",
              "                                                  StandardScaler())]),\n",
              "                                 <sklearn.compose._column_transformer.make_column_selector object at 0x7f65ce388290>),\n",
              "                                ('pipeline-2',\n",
              "                                 Pipeline(steps=[('onehotencoder',\n",
              "                                                  OneHotEncoder(handle_unknown='ignore',\n",
              "                                                                sparse=False))]),\n",
              "                                 <sklearn.compose._column_transformer.make_column_selector object at 0x7f65ce388110>)])"
            ],
            "text/html": [
              "<style>#sk-114055da-ecf3-49e9-82e2-43455ff4c88f {color: black;background-color: white;}#sk-114055da-ecf3-49e9-82e2-43455ff4c88f pre{padding: 0;}#sk-114055da-ecf3-49e9-82e2-43455ff4c88f div.sk-toggleable {background-color: white;}#sk-114055da-ecf3-49e9-82e2-43455ff4c88f label.sk-toggleable__label {cursor: pointer;display: block;width: 100%;margin-bottom: 0;padding: 0.3em;box-sizing: border-box;text-align: center;}#sk-114055da-ecf3-49e9-82e2-43455ff4c88f label.sk-toggleable__label-arrow:before {content: \"▸\";float: left;margin-right: 0.25em;color: #696969;}#sk-114055da-ecf3-49e9-82e2-43455ff4c88f label.sk-toggleable__label-arrow:hover:before {color: black;}#sk-114055da-ecf3-49e9-82e2-43455ff4c88f div.sk-estimator:hover label.sk-toggleable__label-arrow:before {color: black;}#sk-114055da-ecf3-49e9-82e2-43455ff4c88f div.sk-toggleable__content {max-height: 0;max-width: 0;overflow: hidden;text-align: left;background-color: #f0f8ff;}#sk-114055da-ecf3-49e9-82e2-43455ff4c88f div.sk-toggleable__content pre {margin: 0.2em;color: black;border-radius: 0.25em;background-color: #f0f8ff;}#sk-114055da-ecf3-49e9-82e2-43455ff4c88f input.sk-toggleable__control:checked~div.sk-toggleable__content {max-height: 200px;max-width: 100%;overflow: auto;}#sk-114055da-ecf3-49e9-82e2-43455ff4c88f input.sk-toggleable__control:checked~label.sk-toggleable__label-arrow:before {content: \"▾\";}#sk-114055da-ecf3-49e9-82e2-43455ff4c88f div.sk-estimator input.sk-toggleable__control:checked~label.sk-toggleable__label {background-color: #d4ebff;}#sk-114055da-ecf3-49e9-82e2-43455ff4c88f div.sk-label input.sk-toggleable__control:checked~label.sk-toggleable__label {background-color: #d4ebff;}#sk-114055da-ecf3-49e9-82e2-43455ff4c88f input.sk-hidden--visually {border: 0;clip: rect(1px 1px 1px 1px);clip: rect(1px, 1px, 1px, 1px);height: 1px;margin: -1px;overflow: hidden;padding: 0;position: absolute;width: 1px;}#sk-114055da-ecf3-49e9-82e2-43455ff4c88f div.sk-estimator {font-family: monospace;background-color: #f0f8ff;border: 1px dotted black;border-radius: 0.25em;box-sizing: border-box;margin-bottom: 0.5em;}#sk-114055da-ecf3-49e9-82e2-43455ff4c88f div.sk-estimator:hover {background-color: #d4ebff;}#sk-114055da-ecf3-49e9-82e2-43455ff4c88f div.sk-parallel-item::after {content: \"\";width: 100%;border-bottom: 1px solid gray;flex-grow: 1;}#sk-114055da-ecf3-49e9-82e2-43455ff4c88f div.sk-label:hover label.sk-toggleable__label {background-color: #d4ebff;}#sk-114055da-ecf3-49e9-82e2-43455ff4c88f div.sk-serial::before {content: \"\";position: absolute;border-left: 1px solid gray;box-sizing: border-box;top: 2em;bottom: 0;left: 50%;}#sk-114055da-ecf3-49e9-82e2-43455ff4c88f div.sk-serial {display: flex;flex-direction: column;align-items: center;background-color: white;padding-right: 0.2em;padding-left: 0.2em;}#sk-114055da-ecf3-49e9-82e2-43455ff4c88f div.sk-item {z-index: 1;}#sk-114055da-ecf3-49e9-82e2-43455ff4c88f div.sk-parallel {display: flex;align-items: stretch;justify-content: center;background-color: white;}#sk-114055da-ecf3-49e9-82e2-43455ff4c88f div.sk-parallel::before {content: \"\";position: absolute;border-left: 1px solid gray;box-sizing: border-box;top: 2em;bottom: 0;left: 50%;}#sk-114055da-ecf3-49e9-82e2-43455ff4c88f div.sk-parallel-item {display: flex;flex-direction: column;position: relative;background-color: white;}#sk-114055da-ecf3-49e9-82e2-43455ff4c88f div.sk-parallel-item:first-child::after {align-self: flex-end;width: 50%;}#sk-114055da-ecf3-49e9-82e2-43455ff4c88f div.sk-parallel-item:last-child::after {align-self: flex-start;width: 50%;}#sk-114055da-ecf3-49e9-82e2-43455ff4c88f div.sk-parallel-item:only-child::after {width: 0;}#sk-114055da-ecf3-49e9-82e2-43455ff4c88f div.sk-dashed-wrapped {border: 1px dashed gray;margin: 0 0.4em 0.5em 0.4em;box-sizing: border-box;padding-bottom: 0.4em;background-color: white;position: relative;}#sk-114055da-ecf3-49e9-82e2-43455ff4c88f div.sk-label label {font-family: monospace;font-weight: bold;background-color: white;display: inline-block;line-height: 1.2em;}#sk-114055da-ecf3-49e9-82e2-43455ff4c88f div.sk-label-container {position: relative;z-index: 2;text-align: center;}#sk-114055da-ecf3-49e9-82e2-43455ff4c88f div.sk-container {/* jupyter's `normalize.less` sets `[hidden] { display: none; }` but bootstrap.min.css set `[hidden] { display: none !important; }` so we also need the `!important` here to be able to override the default hidden behavior on the sphinx rendered scikit-learn.org. See: https://github.com/scikit-learn/scikit-learn/issues/21755 */display: inline-block !important;position: relative;}#sk-114055da-ecf3-49e9-82e2-43455ff4c88f div.sk-text-repr-fallback {display: none;}</style><div id=\"sk-114055da-ecf3-49e9-82e2-43455ff4c88f\" class=\"sk-top-container\"><div class=\"sk-text-repr-fallback\"><pre>ColumnTransformer(remainder=&#x27;passthrough&#x27;,\n",
              "                  transformers=[(&#x27;pipeline-1&#x27;,\n",
              "                                 Pipeline(steps=[(&#x27;simpleimputer&#x27;,\n",
              "                                                  SimpleImputer()),\n",
              "                                                 (&#x27;standardscaler&#x27;,\n",
              "                                                  StandardScaler())]),\n",
              "                                 &lt;sklearn.compose._column_transformer.make_column_selector object at 0x7f65ce388290&gt;),\n",
              "                                (&#x27;pipeline-2&#x27;,\n",
              "                                 Pipeline(steps=[(&#x27;onehotencoder&#x27;,\n",
              "                                                  OneHotEncoder(handle_unknown=&#x27;ignore&#x27;,\n",
              "                                                                sparse=False))]),\n",
              "                                 &lt;sklearn.compose._column_transformer.make_column_selector object at 0x7f65ce388110&gt;)])</pre><b>Please rerun this cell to show the HTML repr or trust the notebook.</b></div><div class=\"sk-container\" hidden><div class=\"sk-item sk-dashed-wrapped\"><div class=\"sk-label-container\"><div class=\"sk-label sk-toggleable\"><input class=\"sk-toggleable__control sk-hidden--visually\" id=\"78a51f52-c719-4e74-84bd-edf010863408\" type=\"checkbox\" ><label for=\"78a51f52-c719-4e74-84bd-edf010863408\" class=\"sk-toggleable__label sk-toggleable__label-arrow\">ColumnTransformer</label><div class=\"sk-toggleable__content\"><pre>ColumnTransformer(remainder=&#x27;passthrough&#x27;,\n",
              "                  transformers=[(&#x27;pipeline-1&#x27;,\n",
              "                                 Pipeline(steps=[(&#x27;simpleimputer&#x27;,\n",
              "                                                  SimpleImputer()),\n",
              "                                                 (&#x27;standardscaler&#x27;,\n",
              "                                                  StandardScaler())]),\n",
              "                                 &lt;sklearn.compose._column_transformer.make_column_selector object at 0x7f65ce388290&gt;),\n",
              "                                (&#x27;pipeline-2&#x27;,\n",
              "                                 Pipeline(steps=[(&#x27;onehotencoder&#x27;,\n",
              "                                                  OneHotEncoder(handle_unknown=&#x27;ignore&#x27;,\n",
              "                                                                sparse=False))]),\n",
              "                                 &lt;sklearn.compose._column_transformer.make_column_selector object at 0x7f65ce388110&gt;)])</pre></div></div></div><div class=\"sk-parallel\"><div class=\"sk-parallel-item\"><div class=\"sk-item\"><div class=\"sk-label-container\"><div class=\"sk-label sk-toggleable\"><input class=\"sk-toggleable__control sk-hidden--visually\" id=\"5013f62b-0186-47ef-910d-d92f7c436757\" type=\"checkbox\" ><label for=\"5013f62b-0186-47ef-910d-d92f7c436757\" class=\"sk-toggleable__label sk-toggleable__label-arrow\">pipeline-1</label><div class=\"sk-toggleable__content\"><pre>&lt;sklearn.compose._column_transformer.make_column_selector object at 0x7f65ce388290&gt;</pre></div></div></div><div class=\"sk-serial\"><div class=\"sk-item\"><div class=\"sk-serial\"><div class=\"sk-item\"><div class=\"sk-estimator sk-toggleable\"><input class=\"sk-toggleable__control sk-hidden--visually\" id=\"bbe77330-1376-472c-b2ac-5988716df119\" type=\"checkbox\" ><label for=\"bbe77330-1376-472c-b2ac-5988716df119\" class=\"sk-toggleable__label sk-toggleable__label-arrow\">SimpleImputer</label><div class=\"sk-toggleable__content\"><pre>SimpleImputer()</pre></div></div></div><div class=\"sk-item\"><div class=\"sk-estimator sk-toggleable\"><input class=\"sk-toggleable__control sk-hidden--visually\" id=\"6abe2b3a-8c51-40bc-af1c-acb02667fc40\" type=\"checkbox\" ><label for=\"6abe2b3a-8c51-40bc-af1c-acb02667fc40\" class=\"sk-toggleable__label sk-toggleable__label-arrow\">StandardScaler</label><div class=\"sk-toggleable__content\"><pre>StandardScaler()</pre></div></div></div></div></div></div></div></div><div class=\"sk-parallel-item\"><div class=\"sk-item\"><div class=\"sk-label-container\"><div class=\"sk-label sk-toggleable\"><input class=\"sk-toggleable__control sk-hidden--visually\" id=\"6ad98c30-d967-4450-889a-ac6e395b5f34\" type=\"checkbox\" ><label for=\"6ad98c30-d967-4450-889a-ac6e395b5f34\" class=\"sk-toggleable__label sk-toggleable__label-arrow\">pipeline-2</label><div class=\"sk-toggleable__content\"><pre>&lt;sklearn.compose._column_transformer.make_column_selector object at 0x7f65ce388110&gt;</pre></div></div></div><div class=\"sk-serial\"><div class=\"sk-item\"><div class=\"sk-serial\"><div class=\"sk-item\"><div class=\"sk-estimator sk-toggleable\"><input class=\"sk-toggleable__control sk-hidden--visually\" id=\"115cf159-74d0-498d-810b-cd18700b7606\" type=\"checkbox\" ><label for=\"115cf159-74d0-498d-810b-cd18700b7606\" class=\"sk-toggleable__label sk-toggleable__label-arrow\">OneHotEncoder</label><div class=\"sk-toggleable__content\"><pre>OneHotEncoder(handle_unknown=&#x27;ignore&#x27;, sparse=False)</pre></div></div></div></div></div></div></div></div><div class=\"sk-parallel-item\"><div class=\"sk-item\"><div class=\"sk-label-container\"><div class=\"sk-label sk-toggleable\"><input class=\"sk-toggleable__control sk-hidden--visually\" id=\"77d49d21-08cf-4f03-8718-fb80eefc9fda\" type=\"checkbox\" ><label for=\"77d49d21-08cf-4f03-8718-fb80eefc9fda\" class=\"sk-toggleable__label sk-toggleable__label-arrow\">remainder</label><div class=\"sk-toggleable__content\"><pre>[]</pre></div></div></div><div class=\"sk-serial\"><div class=\"sk-item\"><div class=\"sk-estimator sk-toggleable\"><input class=\"sk-toggleable__control sk-hidden--visually\" id=\"bf90d3f1-5c09-4517-8eed-9740ec286d91\" type=\"checkbox\" ><label for=\"bf90d3f1-5c09-4517-8eed-9740ec286d91\" class=\"sk-toggleable__label sk-toggleable__label-arrow\">passthrough</label><div class=\"sk-toggleable__content\"><pre>passthrough</pre></div></div></div></div></div></div></div></div></div></div>"
            ]
          },
          "metadata": {},
          "execution_count": 56
        }
      ]
    },
    {
      "cell_type": "markdown",
      "source": [
        "## Now, we can actually transform our data"
      ],
      "metadata": {
        "id": "mJ4Vi_Eg10ay"
      }
    },
    {
      "cell_type": "code",
      "source": [
        "X_train_processed = preprocessor.transform(X_train)\n",
        "X_test_processed = preprocessor.transform(X_test)"
      ],
      "metadata": {
        "id": "p3u6Oh901ChA"
      },
      "execution_count": 57,
      "outputs": []
    },
    {
      "cell_type": "code",
      "source": [
        "# Now, let's inspect the results for any inconsistencies\n",
        "\n",
        "# X_train first\n",
        "print(np.isnan(X_train_processed).sum().sum(), 'missing values in training data') # Check for missing values\n",
        "print('\\n')\n",
        "print('All data in X_train_processed are', X_train_processed.dtype) # Check data type (should all be numeric)\n",
        "print('\\n')\n",
        "print('Shape of data is', X_train_processed.shape) # Shows number of columns and rows (indicative of One Hot Encoding)\n",
        "print('\\n')\n",
        "X_train_processed # Shows our processed data as a NumPy array"
      ],
      "metadata": {
        "colab": {
          "base_uri": "https://localhost:8080/"
        },
        "id": "bUbbZaS92Qm1",
        "outputId": "a3a6b988-44b1-4b90-fe05-2e78f43e6e3a"
      },
      "execution_count": 65,
      "outputs": [
        {
          "output_type": "stream",
          "name": "stdout",
          "text": [
            "0 missing values in training data\n",
            "\n",
            "\n",
            "All data in X_train_processed are float64\n",
            "\n",
            "\n",
            "Shape of data is (6392, 1564)\n",
            "\n",
            "\n"
          ]
        },
        {
          "output_type": "execute_result",
          "data": {
            "text/plain": [
              "array([[ 0.81724868, -0.7403206 , -0.71277507, ...,  0.        ,\n",
              "         0.        ,  0.        ],\n",
              "       [ 0.5563395 ,  1.35076614, -1.29105225, ...,  0.        ,\n",
              "         0.        ,  0.        ],\n",
              "       [-0.13151196,  1.35076614,  1.81331864, ...,  0.        ,\n",
              "         0.        ,  1.        ],\n",
              "       ...,\n",
              "       [ 1.11373638, -0.7403206 , -0.92052713, ...,  1.        ,\n",
              "         0.        ,  0.        ],\n",
              "       [ 1.76600931, -0.7403206 , -0.2277552 , ...,  0.        ,\n",
              "         0.        ,  0.        ],\n",
              "       [ 0.81724868, -0.7403206 , -0.95867683, ...,  0.        ,\n",
              "         1.        ,  0.        ]])"
            ]
          },
          "metadata": {},
          "execution_count": 65
        }
      ]
    },
    {
      "cell_type": "code",
      "source": [
        "# For X_test\n",
        "print(np.isnan(X_test_processed).sum().sum(), 'missing values in training data')\n",
        "print('\\n')\n",
        "print('All data in X_train_processed are', X_test_processed.dtype)\n",
        "print('\\n')\n",
        "print('Shape of data is', X_test_processed.shape) # Note, the number of columns match\n",
        "print('\\n')\n",
        "X_test_processed"
      ],
      "metadata": {
        "colab": {
          "base_uri": "https://localhost:8080/"
        },
        "id": "MjvKErwG4FpF",
        "outputId": "9f2214ab-9d1f-41cb-8848-8e3b178206af"
      },
      "execution_count": 67,
      "outputs": [
        {
          "output_type": "stream",
          "name": "stdout",
          "text": [
            "0 missing values in training data\n",
            "\n",
            "\n",
            "All data in X_train_processed are float64\n",
            "\n",
            "\n",
            "Shape of data is (2131, 1564)\n",
            "\n",
            "\n"
          ]
        },
        {
          "output_type": "execute_result",
          "data": {
            "text/plain": [
              "array([[ 0.33100885, -0.7403206 , -0.77664625, ...,  0.        ,\n",
              "         0.        ,  0.        ],\n",
              "       [-1.17989246, -0.7403206 ,  0.1003166 , ...,  0.        ,\n",
              "         1.        ,  0.        ],\n",
              "       [ 0.37844688,  1.35076614, -0.48299432, ...,  0.        ,\n",
              "         0.        ,  1.        ],\n",
              "       ...,\n",
              "       [-1.13957013, -0.7403206 ,  1.21832428, ...,  1.        ,\n",
              "         0.        ,  0.        ],\n",
              "       [-1.49772727, -0.7403206 , -0.77809567, ...,  0.        ,\n",
              "         0.        ,  1.        ],\n",
              "       [ 0.52076098, -0.7403206 , -0.77976293, ...,  0.        ,\n",
              "         0.        ,  0.        ]])"
            ]
          },
          "metadata": {},
          "execution_count": 67
        }
      ]
    },
    {
      "cell_type": "markdown",
      "source": [
        "# Pause, more to come later"
      ],
      "metadata": {
        "id": "ry5GhX184wSq"
      }
    }
  ]
}